{
 "cells": [
  {
   "cell_type": "code",
   "execution_count": 514,
   "metadata": {},
   "outputs": [
    {
     "name": "stdout",
     "output_type": "stream",
     "text": [
      "   Assignment     Teacher\n",
      "0  Assignment     teacher\n",
      "1     project    educator\n",
      "2        task       tutor\n",
      "3        work  instructor\n",
      "4         job      master\n"
     ]
    }
   ],
   "source": [
    "from pandas import *\n",
    "xls = ExcelFile('C:/Users/Krishna Asrith/Desktop/sample.xlsx')# synonyms for domains\n",
    "df = xls.parse(xls.sheet_names[0])\n",
    "print(df)"
   ]
  },
  {
   "cell_type": "code",
   "execution_count": 515,
   "metadata": {},
   "outputs": [
    {
     "name": "stdout",
     "output_type": "stream",
     "text": [
      "                                            String\n",
      "0  the expectation on project and teacher are good\n",
      "1                 The teacher communication is bad\n",
      "2                         Assignment is frustating\n",
      "3              The accessibility of tutor is good \n",
      "4                                         availble\n"
     ]
    }
   ],
   "source": [
    "from pandas import *\n",
    "xls = ExcelFile('C:/Users/Krishna Asrith/Desktop/sample1.xlsx') # sampe strings\n",
    "df1 = xls.parse(xls.sheet_names[0])\n",
    "print(df1)\n",
    "\n"
   ]
  },
  {
   "cell_type": "code",
   "execution_count": 516,
   "metadata": {},
   "outputs": [
    {
     "name": "stdout",
     "output_type": "stream",
     "text": [
      "    Assignment              Teacher\n",
      "0  expectation  personal-experience\n",
      "1     feedback        accessibility\n",
      "2      marking              quality\n",
      "3    relevence      teaching-skills\n",
      "4    standards          unsatisfied\n"
     ]
    }
   ],
   "source": [
    "from pandas import *\n",
    "xls = ExcelFile('C:/Users/Krishna Asrith/Desktop/sample2.xlsx') #s\n",
    "df2 = xls.parse(xls.sheet_names[0])\n",
    "print(df2)"
   ]
  },
  {
   "cell_type": "code",
   "execution_count": 517,
   "metadata": {},
   "outputs": [
    {
     "name": "stdout",
     "output_type": "stream",
     "text": [
      "['the', 'expectation', 'on', 'project', 'and', 'teacher', 'are', 'good']\n",
      "5\n",
      "                                            String\n",
      "0  the expectation on project and teacher are good\n",
      "1                 The teacher communication is bad\n",
      "2                         Assignment is frustating\n",
      "3              The accessibility of tutor is good \n",
      "4                                         availble\n",
      "4\n",
      "5\n",
      "['Assignment', 'Teacher']\n",
      "['The', 'accessibility', 'of', 'tutor', 'is', 'good']\n"
     ]
    }
   ],
   "source": [
    "from numpy import nan as Nan\n",
    "import pandas as pd\n",
    "#domains = pd.DataFrame()\n",
    "#s2 = pd.Series([1,1])\n",
    "#df1.append(s2, index=len(St))\n",
    "#df1.loc[df.index.max()] = Nan\n",
    "St = df1['String'].tolist()\n",
    "print(St[0].split())\n",
    "print(len(St))\n",
    "print(df1)\n",
    "#print(s2)\n",
    "\n",
    "print(df1.index.max())\n",
    "r, c = df1.shape\n",
    "print(r)\n",
    "li = df2.columns.tolist()\n",
    "print(li)\n",
    "a=St[3].split()\n",
    "print(a)\n",
    "#print(a[2][0])"
   ]
  },
  {
   "cell_type": "code",
   "execution_count": 518,
   "metadata": {},
   "outputs": [
    {
     "name": "stdout",
     "output_type": "stream",
     "text": [
      "                                            String      domain      subdomain\n",
      "0  the expectation on project and teacher are good  Assignment    expectation\n",
      "1                 The teacher communication is bad     Teacher        unknown\n",
      "2                         Assignment is frustating  Assignment        unknown\n",
      "3              The accessibility of tutor is good      Teacher  accessibility\n",
      "4                                         availble     unknown        unknown\n",
      "5  the expectation on project and teacher are good     Teacher    expectation\n"
     ]
    },
    {
     "name": "stderr",
     "output_type": "stream",
     "text": [
      "G:\\anaconda\\lib\\site-packages\\ipykernel_launcher.py:18: DeprecationWarning: The truth value of an empty array is ambiguous. Returning False, but in future this will result in an error. Use `array.size > 0` to check that an array is not empty.\n"
     ]
    }
   ],
   "source": [
    "\n",
    "count2=0\n",
    "for x in St:\n",
    "    #print(x)\n",
    "    count2=count2+1\n",
    "    St1=x\n",
    "    a=[]\n",
    "    cc=[]\n",
    "    aa, bb = np.where(df1.values == St1)\n",
    "    count=0\n",
    "    count1=0\n",
    "    if count2<6:\n",
    "        for y in St1.split():\n",
    "            #print(y)\n",
    "            s = (df == y).any()\n",
    "            a.append(s.index[s])\n",
    "            count1=count1+1\n",
    "            #print(a[count1-1][0])\n",
    "            if(a[count1-1]!= 0):\n",
    "                b=str(a[count1-1][0])\n",
    "                #print(b)\n",
    "                #print(count1)\n",
    "                count=count+1\n",
    "                #print(a)\n",
    "                #print(count)\n",
    "                #print(df1)\n",
    "                if(count<=1):\n",
    "                    cc.append(a[count1-1][0])\n",
    "                    df1.at[aa[count-1],bb[count-1]+1]= a[count1-1][0]\n",
    "                    #print(df1)\n",
    "                elif(count>1):\n",
    "                    z=St1\n",
    "                    #print(z)\n",
    "                    cc.append(a[count1-1][0])\n",
    "                    #print(f)\n",
    "                    #print(df1)\n",
    "                    r, c = df1.shape\n",
    "                    #print(r)\n",
    "                    St.append(St1)\n",
    "                    df1.at[r,\"String\"] = St1\n",
    "                    df1.at[r,1]= a[count1-1][0]\n",
    "        if(count==0):\n",
    "            df1.at[aa[count],bb[count]+1]=\"unknown\"\n",
    "            df1.at[aa[count],bb[count]+2]=\"unknown\"\n",
    "            #print(cc)\n",
    "        #St2 = df1['String'].tolist()\n",
    "    #print(St)    \n",
    "    count4=0\n",
    "    xx, yy = np.where(df1.values == St1)\n",
    "    for xy in cc:\n",
    "        for i in range(len(li)):\n",
    "            if(xy == li[i]):\n",
    "                sd=df2[xy].tolist()\n",
    "                #print(x)\n",
    "                for y in St1.split():\n",
    "                    for j in range(len(sd)):\n",
    "                        if(y==sd[j]):\n",
    "                            count4=count4+1\n",
    "                            if(count==1):\n",
    "                                df1.at[aa[0],bb[0]+2]=sd[j]\n",
    "                            elif(count>1):\n",
    "                                for i in range(count):\n",
    "                                    df1.at[xx[i],yy[i]+2]=sd[j]\n",
    "                if(count4==0):\n",
    "                    df1.at[aa[0],bb[0]+2]=\"unknown\"\n",
    "                            \n",
    "                        \n",
    "    #if(count>1):\n",
    "     #   for i in range(count):\n",
    "      #      print(St)\n",
    "       #     St.pop()\n",
    "df1.columns = ['String','domain', 'subdomain']        \n",
    "print(df1)        \n",
    "        #dd=[]\n",
    "        #for i in range(len(bb)):\n",
    "            #e[aa[i]]='Nan'\n",
    "            #dataframe.iat[aa[i],bb[i]]='Nan'\n",
    "            #dd.append(dataframe.iat[aa[i],bb[i]+1])  \n",
    "            #print(j)\n",
    "            #dd = dataframe.iat[0,1] \n",
    "            #print(dataframe)   \n",
    "        #cc = dataframe.columns[bb[0]]\n",
    "        #print(cc)\n",
    "        #print(e.index(x))\n",
    "        #c.at[aa[0],0]=x\n",
    "\n",
    "          #if x!='Nan':\n",
    "          #print(x)\n",
    "          #s = (df == x).any()\n",
    "          #a = s.index[s]\n",
    "          #print(a)\n",
    "            "
   ]
  },
  {
   "cell_type": "code",
   "execution_count": 519,
   "metadata": {},
   "outputs": [],
   "source": [
    "df1.to_csv(r'C:/Users/Krishna Asrith/Desktop/sample3.csv')"
   ]
  },
  {
   "cell_type": "code",
   "execution_count": 438,
   "metadata": {},
   "outputs": [
    {
     "name": "stdout",
     "output_type": "stream",
     "text": [
      "10\n"
     ]
    }
   ],
   "source": [
    "abc=St[0]\n",
    "class abc:\n",
    "    a = 10\n",
    "print(abc.a) \n",
    "\n"
   ]
  },
  {
   "cell_type": "code",
   "execution_count": 252,
   "metadata": {},
   "outputs": [],
   "source": [
    "a=\"Assignment\"\n",
    "b=\"Assignment\"\n",
    "if(a==b):\n",
    "    "
   ]
  },
  {
   "cell_type": "code",
   "execution_count": 293,
   "metadata": {},
   "outputs": [
    {
     "name": "stdout",
     "output_type": "stream",
     "text": [
      "[1, 2, 3]\n"
     ]
    }
   ],
   "source": [
    "li=[]\n",
    "a=[1,2,3]\n",
    "b=[2,1,3]\n",
    "li =  sorted(set(a)-set(b))\n",
    "li1= sorted(set(a)-set(li))\n",
    "print(li1)"
   ]
  },
  {
   "cell_type": "code",
   "execution_count": 421,
   "metadata": {},
   "outputs": [
    {
     "name": "stdout",
     "output_type": "stream",
     "text": [
      "['this project is good and communication  Assignment are bad expectation', 'The teacher communication is bad', 'Assignment is frustating feedback', 'tutor is available accessibility', 'availble', 'this project is good and communication  Assignment are bad expectation']\n",
      "5\n",
      "0\n"
     ]
    }
   ],
   "source": [
    "print(St)\n",
    "xx,yy= np.where(df1.values == St[0])\n",
    "print(xx[1])\n",
    "print(yy[1])"
   ]
  },
  {
   "cell_type": "code",
   "execution_count": null,
   "metadata": {},
   "outputs": [],
   "source": []
  }
 ],
 "metadata": {
  "kernelspec": {
   "display_name": "Python 3",
   "language": "python",
   "name": "python3"
  }
 },
 "nbformat": 4,
 "nbformat_minor": 2
}
